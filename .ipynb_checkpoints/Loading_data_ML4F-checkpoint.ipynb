{
 "cells": [
  {
   "cell_type": "code",
   "execution_count": null,
   "metadata": {},
   "outputs": [],
   "source": [
    "import torch\n",
    "import numpy as np\n",
    "import pandas as pd"
   ]
  },
  {
   "cell_type": "code",
   "execution_count": 1,
   "metadata": {},
   "outputs": [],
   "source": [
    "# Input data for training, val and test.\n",
    "port_df = pd.read_csv('/data/base_seven_portfolio_re.csv')\n",
    "port_nump = port_df.to_numpy()\n",
    "arr = np.array([125.59,126.4,124.97,125.85,7552845,128.96,129.1,126.12,126.655,192541500,245.39,240.56,242.13,4088144,119.14,119.8837,118.27,119.08,28954764,215.15,216.85,213,82,215.08,7929060, 173.6,175.843,172.28,172.89,21172084,222.05,223.464,218.61,219.75,19092764.0])\n",
    "arr_tens = torch.Tensor(arr)\n",
    "port_sev_tens = torch.Tensor(port_nump)\n",
    "arr_tens_re = arr_tens.view(1,35)\n",
    "final_port_sev = torch.cat((arr_tens_re,port_sev_tens),0)\n",
    "\n",
    "# A [672,4,7,5] tensor.\n",
    "data_ml4f = port_del_tens.view(672,4,7,5)"
   ]
  },
  {
   "cell_type": "code",
   "execution_count": 24,
   "metadata": {},
   "outputs": [],
   "source": [
    "# Labels for training, val and test.\n",
    "results_df = pd.read_csv('/Users/dhruvkaul/Desktop/base_seven_portfolio_returns_fin.csv')\n",
    "results_nump = results_df.to_numpy()\n",
    "results_tens = torch.Tensor(results_nump)\n",
    "\n",
    "\n",
    "del_one = np.delete(results_nump,slice(1,3359,5), 0)\n",
    "check_one = torch.Tensor(del_one)\n",
    "del_two = np.delete(del_one,slice(1,2688,4),0)\n",
    "check_two = torch.Tensor(del_two)\n",
    "del_three = np.delete(del_two,slice(1,2016,3),0)\n",
    "check_three = torch.Tensor(del_three)\n",
    "del_four = np.delete(del_three,slice(1,1344,2),0)\n",
    "check_four = torch.Tensor(del_four)\n",
    "\n",
    "# A [672,7] tensor.\n",
    "\n",
    "labels_ml4f = check_four"
   ]
  }
 ],
 "metadata": {
  "kernelspec": {
   "display_name": "Python 3",
   "language": "python",
   "name": "python3"
  },
  "language_info": {
   "codemirror_mode": {
    "name": "ipython",
    "version": 3
   },
   "file_extension": ".py",
   "mimetype": "text/x-python",
   "name": "python",
   "nbconvert_exporter": "python",
   "pygments_lexer": "ipython3",
   "version": "3.6.8"
  },
  "nteract": {
   "version": "0.27.0"
  }
 },
 "nbformat": 4,
 "nbformat_minor": 4
}
